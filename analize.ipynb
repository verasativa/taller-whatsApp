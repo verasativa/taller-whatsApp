{
 "cells": [
  {
   "cell_type": "markdown",
   "metadata": {},
   "source": [
    "# Analizando chats de WhatsApp\n",
    "\n",
    "## Consideraciones éticas\n",
    "En este taller entenderemos las conversaciones de WhatsApp como privadas, por tanto:\n",
    " - Solo analizaremos conversaciones de las que somos parte\n",
    " - No compartiremos con nadie los chats que analicemos sin el consentimiento de __todas__ las partes\n",
    " - Tomaremos medidas activas para evitar que ocurra lo anterior accidentalmente\n",
    " - Los resultados agregados que podamos compartir o publicar, deben velar por que __no se pueda hacer ingeniería inversa sobre estos para obtener datos a escala de individuo__.\n",
    " - La liberación o publicación de dichos resultados debe ser aprobada por la instructora de este taller, así como todas las partes del chat, o la administración de tratarse de un chat grupal que la tenga formalmente establecida (ej: WWCode).\n",
    "\n",
    "## Obteniendo los archivos de desde WhatsApp\n",
    "Desde WhatsApp en el telefono:\n",
    " - Tap al nombre de la conversación (contacto o grupo)\n",
    " - Scroll down hasta: Exportar Chat\n",
    " - Elegimos exportar sin media\n",
    " - Lo enviamos a nosotras mismas por el medio que nos acomode (archivos, telegram, mail, etc)\n",
    " - Recibiremos un zip, el que extraeremos a este directorio renombrado __chat.txt_ al nombre de la conversación.\n",
    " \n",
    "## Importamos chat"
   ]
  },
  {
   "cell_type": "code",
   "execution_count": 1,
   "metadata": {},
   "outputs": [],
   "source": [
    "import re\n",
    "\n",
    "# Open file and put it into a var\n",
    "with open('wwcode.txt', 'r') as file:\n",
    "    content = ''\n",
    "    for line in file.readlines():\n",
    "        content += line\n",
    "\n",
    "# search, iterate and build an index trough opening datetime strings\n",
    "regex = r\"\\[\\d\\d\\.\\d\\d\\.\\d\\d\\,\\ \\d\\d\\:\\d\\d\\:\\d\\d\\]\"\n",
    "matches = re.finditer(regex, content, re.MULTILINE)\n",
    "index = []\n",
    "\n",
    "for match in matches:\n",
    "    datetime = match.group()[1:-1]\n",
    "    span = match.span()\n",
    "    index.append([datetime, span])"
   ]
  },
  {
   "cell_type": "code",
   "execution_count": 3,
   "metadata": {},
   "outputs": [],
   "source": [
    "from unidecode import unidecode\n",
    "\n",
    "# Iterate over datetime and string list, and build a pre-table list with: datetime, kind, user and text\n",
    "data = []\n",
    "for idx in range(len(index) - 1):\n",
    "    datetime = index[idx][0]\n",
    "    \n",
    "    start = index[idx][1][1]\n",
    "    end = index[idx + 1][1][0]\n",
    "    \n",
    "    marker = content[start:end-1].find(b'\\xe2\\x80\\x8e'.decode('utf-8'))\n",
    "    if marker == -1:\n",
    "        kind = 'message'\n",
    "        user = content[start + 1:end-1].split(':')[0]\n",
    "        text = content[start + len(user) + 3:end-1]\n",
    "    else:\n",
    "        if marker == 1:\n",
    "            kind = 'admin action'\n",
    "        else:\n",
    "            kind = 'user action'\n",
    "            \n",
    "        raw_body = content[start + 1:end-1]\n",
    "        colon_location = raw_body.find(':')\n",
    "        if colon_location > 1:\n",
    "            user = raw_body[:colon_location]\n",
    "        else:\n",
    "            hat_location = raw_body.find(' hat')\n",
    "            user = raw_body[:hat_location]\n",
    "        text = raw_body[len(user) + 1:].strip()\n",
    "    \n",
    "    data.append([datetime, kind, unidecode(user), text])"
   ]
  },
  {
   "cell_type": "code",
   "execution_count": 135,
   "metadata": {},
   "outputs": [],
   "source": [
    "import pandas as pd\n",
    "\n",
    "chat = pd.DataFrame(data, columns=['datetime', 'kind', 'user', 'text'])"
   ]
  },
  {
   "cell_type": "markdown",
   "metadata": {},
   "source": [
    "## Veamos quienes escriben más"
   ]
  },
  {
   "cell_type": "code",
   "execution_count": null,
   "metadata": {},
   "outputs": [],
   "source": [
    "import matplotlib.pyplot as plt\n",
    "%matplotlib inline\n",
    "\n",
    "fig = plt.figure()\n",
    "plt.title('Conteo de mensajes')\n",
    "\n",
    "chat.user.value_counts()[:45].plot(kind='barh', figsize=(12, 14))\n",
    "\n",
    "fig.savefig('message_count.png', bbox_inches='tight')"
   ]
  },
  {
   "cell_type": "markdown",
   "metadata": {},
   "source": [
    "## Viendo usuarios específicos"
   ]
  },
  {
   "cell_type": "code",
   "execution_count": null,
   "metadata": {},
   "outputs": [],
   "source": [
    "user = ''\n",
    "chat.query('user == @user')"
   ]
  },
  {
   "cell_type": "markdown",
   "metadata": {},
   "source": [
    "# Creemos totales de palabras por usuario"
   ]
  },
  {
   "cell_type": "code",
   "execution_count": null,
   "metadata": {},
   "outputs": [],
   "source": [
    "from nltk import word_tokenize\n",
    "from nltk.stem.snowball import SnowballStemmer\n",
    "from unidecode import unidecode\n",
    "from nltk.corpus import stopwords\n",
    "\n",
    "# Stop words\n",
    "stop_words = [\n",
    "    'ja',\n",
    "    'jaj',\n",
    "    'jaja',\n",
    "    'jajaj',\n",
    "    'jajaja',\n",
    "    'jajajaj',\n",
    "    'jajajaja',\n",
    "    'jajajajaj',\n",
    "    'y',\n",
    "    'q',\n",
    "    '...',\n",
    "    '',\n",
    "    'si',\n",
    "    'https',\n",
    "    'mas',\n",
    "    'xd'\n",
    "] + stopwords.words(\"spanish\")\n",
    "puctuation = '1234567890¡!\"·$%&/()=?¿\",.-;:_–'\n",
    "for simbol in puctuation:\n",
    "    stop_words.append(simbol)\n",
    "\n",
    "def user_words(df, stem = False, do_unidecode = True):\n",
    "    # Count data structure\n",
    "    user_words = {}\n",
    "    # Count data\n",
    "    for _idx, row in chat.iterrows():\n",
    "        if row.kind == 'message':\n",
    "            for word in word_tokenize(row.text):\n",
    "                word = word.lower()\n",
    "                if do_unidecode:\n",
    "                    word = unidecode(word)\n",
    "                \n",
    "                if word not in stop_words:\n",
    "                    # Build user if not already done\n",
    "                    if row.user not in user_words.keys():\n",
    "                        user_words[row.user] = {}\n",
    "                    if word in user_words[row.user].keys():\n",
    "                        user_words[row.user][word] += 1\n",
    "                    else:\n",
    "                        user_words[row.user][word] = 1\n",
    "    # Sumarize data\n",
    "    totals = []\n",
    "    for user in user_words.keys():\n",
    "        for word in user_words[user].keys():\n",
    "            totals.append([user, word, user_words[user][word]])\n",
    "    return(pd.DataFrame(totals, columns=['user', 'word', 'total']).sort_values('total', ascending=False))\n",
    "                \n",
    "uw = user_words(chat)\n",
    "uw[:10]"
   ]
  },
  {
   "cell_type": "code",
   "execution_count": null,
   "metadata": {},
   "outputs": [],
   "source": [
    "uw.groupby('word').sum().sort_values('total', ascending=False)[:20] #.iloc[0]"
   ]
  },
  {
   "cell_type": "code",
   "execution_count": 150,
   "metadata": {},
   "outputs": [],
   "source": [
    "def count_words(df, words):\n",
    "    total_words = df.groupby('word').sum()\n",
    "    result = {}\n",
    "    for words_group in words:\n",
    "        totals = []\n",
    "        for word in words_group:\n",
    "            if word in total_words.index:\n",
    "                totals.append(total_words.loc[word].total)\n",
    "            else:\n",
    "                totals.append(0)\n",
    "                \n",
    "        ratios = []\n",
    "        total_group = sum(totals)\n",
    "        for count in totals:\n",
    "            if total_group != 0:\n",
    "                ratios.append(count/total_group)\n",
    "            else:\n",
    "                ratios.append(0)\n",
    "                \n",
    "        result['/'.join(words_group)] = (totals, ratios)\n",
    "    return result\n",
    "\n",
    "interest_words = [\n",
    " #   ['mujeres', 'hombres'],\n",
    "  #  ['mujer', 'hombre'],\n",
    "    ['ingeniera', 'ingeniero'],\n",
    "    ['todas', 'todes', 'todos'],\n",
    "    ['chicas', 'chiques', 'chicos'],\n",
    "    ['jefa', 'jefe'],\n",
    "    ['amiga', 'amigo'],\n",
    "    ['gerenta', 'gerente'],\n",
    "    ['polola', 'pololo'],\n",
    "    ['cientifica', 'cientifico'],\n",
    "    ['doctora', 'doctor'],\n",
    "    ['tonta', 'tonto'],\n",
    "    ['estupido', 'estupida'],\n",
    "    ['mina', 'mino']\n",
    "#    ['python', 'ruby', 'javascript', 'java', 'php']\n",
    "]\n",
    "#count_words(uw, interest_words) #.sort_values('word')"
   ]
  },
  {
   "cell_type": "code",
   "execution_count": 151,
   "metadata": {},
   "outputs": [],
   "source": [
    "data = []\n",
    "for key, values in count_words(uw, interest_words).items():\n",
    "    #print(key)\n",
    "    for i, word in enumerate(key.split('/')):\n",
    "        #print(values[0][i],word)\n",
    "        gender_count = len(key.split('/'))\n",
    "        if gender_count == 2:\n",
    "            genders = ['femenina', 'masculina']\n",
    "        elif gender_count == 3:\n",
    "            genders = ['femenina', 'no-binaria','masculina']\n",
    "        else:\n",
    "            genders = ['no-binaria' + str(n) for n in range(gender_count)] \n",
    "        data.append([key.replace('/', '\\n'), word, values[0][i], values[1][i], genders[i]])\n",
    "#data"
   ]
  },
  {
   "cell_type": "code",
   "execution_count": 152,
   "metadata": {},
   "outputs": [
    {
     "data": {
      "image/png": "[encoded data removed]",
      "text/plain": [
       "<Figure size 864x576 with 1 Axes>"
      ]
     },
     "metadata": {},
     "output_type": "display_data"
    }
   ],
   "source": [
    "import seaborn as sns\n",
    "\n",
    "genderificaciones = pd.DataFrame(data, columns=['grupo', 'palabra', 'total', 'fraccion', 'genderificación'])\n",
    "sns.set(style=\"whitegrid\")\n",
    "fig = plt.figure(figsize=(12, 8))\n",
    "#plt.xticks(rotation=90)\n",
    "ax = sns.barplot(x=\"fraccion\", y=\"grupo\", hue=\"genderificación\", data=genderificaciones)\n",
    "\n",
    "fig.savefig('genderificaciones.png')"
   ]
  },
  {
   "cell_type": "code",
   "execution_count": 215,
   "metadata": {},
   "outputs": [
    {
     "data": {
      "text/plain": [
       "{'python': 110,\n",
       " 'ruby': 17,\n",
       " 'java': 22,\n",
       " 'javascript': 34,\n",
       " 'c++': 15,\n",
       " 'php': 12,\n",
       " 'fortran': 3,\n",
       " 'basic': 5,\n",
       " 'julia': 7}"
      ]
     },
     "execution_count": 215,
     "metadata": {},
     "output_type": "execute_result"
    }
   ],
   "source": [
    "def count_words_sin(df, words):\n",
    "    total_words = df.groupby('word').sum()\n",
    "    result = {}\n",
    "    for word in words:\n",
    "        if type(word) == list:\n",
    "            label = word[0]\n",
    "            word_total = 0\n",
    "            for variant in word:\n",
    "                if variant in total_words.index:\n",
    "                    word_total += total_words.loc[variant].total\n",
    "        else:\n",
    "            label = word\n",
    "            if word in total_words.index:\n",
    "                word_total = total_words.loc[word].total\n",
    "        result[label] = word_total\n",
    "    return result\n",
    "\n",
    "lenguajes= [\n",
    "    'python',\n",
    "    'ruby',\n",
    "    'java',\n",
    "    ['javascript', 'js', 'typescript'],\n",
    "    ['c++', 'algoquenoexiste'],\n",
    "    'php',\n",
    "    'fortran',\n",
    "    'basic',\n",
    "    'julia'\n",
    "]\n",
    "\n",
    "count_words_sin(uw, lenguajes)"
   ]
  },
  {
   "cell_type": "code",
   "execution_count": 219,
   "metadata": {},
   "outputs": [
    {
     "data": {
      "text/plain": [
       "<matplotlib.axes._subplots.AxesSubplot at 0x11fd7bcd0>"
      ]
     },
     "execution_count": 219,
     "metadata": {},
     "output_type": "execute_result"
    },
    {
     "data": {
      "image/png": "[encoded data removed]",
      "text/plain": [
       "<Figure size 864x576 with 1 Axes>"
      ]
     },
     "metadata": {},
     "output_type": "display_data"
    }
   ],
   "source": [
    "counts = count_words_sin(uw, lenguajes)\n",
    "lang_count = pd.DataFrame.from_dict(counts, orient='index', columns=['count'])\n",
    "\n",
    "lang_count.sort_values(by='count', ascending=False).plot(kind='barh', figsize=(12, 8))"
   ]
  },
  {
   "cell_type": "markdown",
   "metadata": {},
   "source": [
    "# Creando clusters de palabras/usuarios"
   ]
  },
  {
   "cell_type": "code",
   "execution_count": null,
   "metadata": {},
   "outputs": [],
   "source": [
    "from sklearn import cluster\n",
    "\n",
    "users = pd.get_dummies(uw.user, sparse=True)\n",
    "words = pd.get_dummies(uw.word, sparse=True)\n",
    "X = pd.concat([users, words], axis=1, sort=False)\n",
    "\n",
    "clusterizer = cluster.KMeans(n_clusters=5, n_jobs=-1)\n",
    "\n",
    "clusters = clusterizer.fit_predict(X, sample_weight=uw.total)"
   ]
  },
  {
   "cell_type": "code",
   "execution_count": null,
   "metadata": {},
   "outputs": [],
   "source": []
  }
 ],
 "metadata": {
  "jupytext": {},
  "kernelspec": {
   "display_name": "Python 3",
   "language": "python",
   "name": "python3"
  },
  "language_info": {
   "codemirror_mode": {
    "name": "ipython",
    "version": 3
   },
   "file_extension": ".py",
   "mimetype": "text/x-python",
   "name": "python",
   "nbconvert_exporter": "python",
   "pygments_lexer": "ipython3",
   "version": "3.7.4"
  }
 },
 "nbformat": 4,
 "nbformat_minor": 4
}
